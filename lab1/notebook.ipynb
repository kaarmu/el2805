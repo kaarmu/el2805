{
 "cells": [
  {
   "cell_type": "code",
   "execution_count": 1,
   "id": "3775e16b",
   "metadata": {},
   "outputs": [
    {
     "name": "stdout",
     "output_type": "stream",
     "text": [
      "Maze created\n"
     ]
    }
   ],
   "source": [
    "import numpy as np\n",
    "import maze2 as mz\n",
    "from lab1_p1 import DynProg, ValIter\n",
    "\n",
    "# Description of the maze as a numpy array\n",
    "maze = np.array([\n",
    "    [0, 0, 1, 0, 0, 0, 0, 0],\n",
    "    [0, 0, 1, 0, 0, 1, 0, 0],\n",
    "    [0, 0, 1, 0, 0, 1, 1, 1],\n",
    "    [0, 0, 1, 0, 0, 1, 0, 0],\n",
    "    [0, 0, 0, 0, 0, 0, 0, 0],\n",
    "    [0, 1, 1, 1, 1, 1, 1, 0],\n",
    "    [0, 0, 0, 0, 1, 2, 0, 0],\n",
    "])\n",
    "# with the convention\n",
    "# 0 = empty cell\n",
    "# 1 = obstacle\n",
    "# 2 = exit of the Maze\n",
    "\n",
    "# Create an environment maze\n",
    "env = mz.Maze(maze, minotaur=True, standstill=True, poisoned=True)\n",
    "print('Maze created')\n",
    "\n",
    "# Create start state \n",
    "start = ((0, 0), (6, 5)) if env.enabled_minotaur else ((0, 0),)\n"
   ]
  },
  {
   "cell_type": "code",
   "execution_count": 2,
   "id": "814f6e9f",
   "metadata": {},
   "outputs": [
    {
     "name": "stdout",
     "output_type": "stream",
     "text": [
      "> Start DynProg with horizon=1\n",
      "| Starting 10000 runs\n",
      "| Escaped 0 times\n",
      "> Start DynProg with horizon=2\n",
      "| Starting 10000 runs\n",
      "| Escaped 0 times\n",
      "> Start DynProg with horizon=3\n",
      "| Starting 10000 runs\n",
      "| Escaped 0 times\n",
      "> Start DynProg with horizon=4\n",
      "| Starting 10000 runs\n",
      "| Escaped 0 times\n",
      "> Start DynProg with horizon=5\n",
      "| Starting 10000 runs\n",
      "| Escaped 0 times\n",
      "> Start DynProg with horizon=6\n",
      "| Starting 10000 runs\n",
      "| Escaped 0 times\n",
      "> Start DynProg with horizon=7\n",
      "| Starting 10000 runs\n",
      "| Escaped 0 times\n",
      "> Start DynProg with horizon=8\n",
      "| Starting 10000 runs\n",
      "| Escaped 0 times\n",
      "> Start DynProg with horizon=9\n",
      "| Starting 10000 runs\n",
      "| Escaped 0 times\n",
      "> Start DynProg with horizon=10\n",
      "| Starting 10000 runs\n",
      "| Escaped 0 times\n",
      "> Start DynProg with horizon=11\n",
      "| Starting 10000 runs\n",
      "| Escaped 0 times\n",
      "> Start DynProg with horizon=12\n",
      "| Starting 10000 runs\n",
      "| Escaped 0 times\n",
      "> Start DynProg with horizon=13\n",
      "| Starting 10000 runs\n",
      "| Escaped 0 times\n",
      "> Start DynProg with horizon=14\n",
      "| Starting 10000 runs\n",
      "| Escaped 0 times\n",
      "> Start DynProg with horizon=15\n",
      "| Starting 10000 runs\n",
      "| Escaped 0 times\n",
      "> Start DynProg with horizon=16\n",
      "| Starting 10000 runs\n",
      "| Escaped 0 times\n",
      "> Start DynProg with horizon=17\n",
      "| Starting 10000 runs\n",
      "| Escaped 10000 times\n",
      "> Start DynProg with horizon=18\n",
      "| Starting 10000 runs\n",
      "| Escaped 10000 times\n",
      "> Start DynProg with horizon=19\n",
      "| Starting 10000 runs\n",
      "| Escaped 10000 times\n",
      "> Start DynProg with horizon=20\n",
      "| Starting 10000 runs\n",
      "| Escaped 10000 times\n",
      "> Start DynProg with horizon=21\n",
      "| Starting 10000 runs\n",
      "| Escaped 10000 times\n",
      "> Start DynProg with horizon=22\n",
      "| Starting 10000 runs\n",
      "| Escaped 10000 times\n",
      "> Start DynProg with horizon=23\n",
      "| Starting 10000 runs\n",
      "| Escaped 10000 times\n",
      "> Start DynProg with horizon=24\n",
      "| Starting 10000 runs\n",
      "| Escaped 10000 times\n",
      "> Start DynProg with horizon=25\n",
      "| Starting 10000 runs\n",
      "| Escaped 10000 times\n",
      "> Start DynProg with horizon=26\n",
      "| Starting 10000 runs\n",
      "| Escaped 10000 times\n",
      "> Start DynProg with horizon=27\n",
      "| Starting 10000 runs\n",
      "| Escaped 10000 times\n",
      "> Start DynProg with horizon=28\n",
      "| Starting 10000 runs\n",
      "| Escaped 10000 times\n",
      "> Start DynProg with horizon=29\n",
      "| Starting 10000 runs\n",
      "| Escaped 10000 times\n",
      "> Start DynProg with horizon=30\n",
      "| Starting 10000 runs\n",
      "| Escaped 10000 times\n"
     ]
    },
    {
     "data": {
      "image/png": "[encoded data removed]",
      "text/plain": [
       "<Figure size 640x480 with 1 Axes>"
      ]
     },
     "metadata": {},
     "output_type": "display_data"
    }
   ],
   "source": [
    "DynProg(env, start, horizons=range(1, 31))"
   ]
  },
  {
   "cell_type": "code",
   "execution_count": 2,
   "id": "710ecf6f",
   "metadata": {},
   "outputs": [
    {
     "name": "stdout",
     "output_type": "stream",
     "text": [
      "> Start ValIter with gamma=0.95 and epsilon=0.0001\n",
      "| Starting 100 runs\n",
      "| Escaped 100 times\n"
     ]
    },
    {
     "data": {
      "image/png": "[encoded data removed]",
      "text/plain": [
       "<Figure size 640x480 with 1 Axes>"
      ]
     },
     "metadata": {},
     "output_type": "display_data"
    }
   ],
   "source": [
    "ValIter(env, start, num_runs=100)"
   ]
  }
 ],
 "metadata": {
  "kernelspec": {
   "display_name": "Python 3 (ipykernel)",
   "language": "python",
   "name": "python3"
  },
  "language_info": {
   "codemirror_mode": {
    "name": "ipython",
    "version": 3
   },
   "file_extension": ".py",
   "mimetype": "text/x-python",
   "name": "python",
   "nbconvert_exporter": "python",
   "pygments_lexer": "ipython3",
   "version": "3.10.8"
  }
 },
 "nbformat": 4,
 "nbformat_minor": 5
}
